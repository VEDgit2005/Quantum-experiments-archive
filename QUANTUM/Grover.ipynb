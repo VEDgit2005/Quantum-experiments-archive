{
 "cells": [
  {
   "cell_type": "code",
   "execution_count": null,
   "metadata": {},
   "outputs": [],
   "source": [
    "import numpy as np\n",
    "from qiskit import QuantumCircuit, transpile \n",
    "from qiskit.visualization import * \n",
    "from qiskit.visualization import plot_histogram\n",
    "from qiskit_aer import Aer\n",
    "from qiskit_aer import QasmSimulator \n",
    "from qiskit.circuit.library import MCMT \n",
    "from math import sqrt, pow, pi "
   ]
  },
  {
   "cell_type": "code",
   "execution_count": 5,
   "metadata": {},
   "outputs": [
    {
     "name": "stderr",
     "output_type": "stream",
     "text": [
      "C:\\Users\\siddh\\AppData\\Local\\Temp\\ipykernel_42816\\1444083141.py:13: DeprecationWarning: The class ``qiskit.circuit.library.generalized_gates.mcmt.MCMT`` is deprecated as of Qiskit 1.4. It will be removed no earlier than 3 months after the release date. Use MCMTGate instead.\n",
      "  cnz = MCMT('z', num_ctrl_qubits=nqubits-1, num_target_qubits=1)\n"
     ]
    },
    {
     "data": {
      "text/html": [
       "<pre style=\"word-wrap: normal;white-space: pre;background: #fff0;line-height: 1.1;font-family: &quot;Courier New&quot;,Courier,monospace\">     ┌───┐     ┌─────────────┐┌────────┐┌───┐┌─┐               \n",
       "q_0: ┤ H ├─────┤0            ├┤0       ├┤ H ├┤M├───────────────\n",
       "     ├───┤     │             ││        │├───┤└╥┘┌─┐            \n",
       "q_1: ┤ H ├─────┤1            ├┤1       ├┤ H ├─╫─┤M├────────────\n",
       "     ├───┤     │             ││        │├───┤ ║ └╥┘┌─┐         \n",
       "q_2: ┤ H ├─────┤2            ├┤2       ├┤ H ├─╫──╫─┤M├─────────\n",
       "     ├───┤     │             ││  U$_s$ │├───┤ ║  ║ └╥┘┌─┐      \n",
       "q_3: ┤ H ├─────┤3 U$_\\omega$ ├┤3       ├┤ H ├─╫──╫──╫─┤M├──────\n",
       "     ├───┤     │             ││        │├───┤ ║  ║  ║ └╥┘┌─┐   \n",
       "q_4: ┤ H ├─────┤4            ├┤4       ├┤ H ├─╫──╫──╫──╫─┤M├───\n",
       "     ├───┤     │             ││        │├───┤ ║  ║  ║  ║ └╥┘┌─┐\n",
       "q_5: ┤ H ├─────┤5            ├┤5       ├┤ H ├─╫──╫──╫──╫──╫─┤M├\n",
       "     ├───┤┌───┐│             │└────────┘└───┘ ║  ║  ║  ║  ║ └╥┘\n",
       "q_6: ┤ X ├┤ H ├┤6            ├────────────────╫──╫──╫──╫──╫──╫─\n",
       "     └───┘└───┘└─────────────┘                ║  ║  ║  ║  ║  ║ \n",
       "c: 6/═════════════════════════════════════════╩══╩══╩══╩══╩══╩═\n",
       "                                              0  1  2  3  4  5 </pre>"
      ],
      "text/plain": [
       "     ┌───┐     ┌─────────────┐┌────────┐┌───┐┌─┐               \n",
       "q_0: ┤ H ├─────┤0            ├┤0       ├┤ H ├┤M├───────────────\n",
       "     ├───┤     │             ││        │├───┤└╥┘┌─┐            \n",
       "q_1: ┤ H ├─────┤1            ├┤1       ├┤ H ├─╫─┤M├────────────\n",
       "     ├───┤     │             ││        │├───┤ ║ └╥┘┌─┐         \n",
       "q_2: ┤ H ├─────┤2            ├┤2       ├┤ H ├─╫──╫─┤M├─────────\n",
       "     ├───┤     │             ││  U$_s$ │├───┤ ║  ║ └╥┘┌─┐      \n",
       "q_3: ┤ H ├─────┤3 U$_\\omega$ ├┤3       ├┤ H ├─╫──╫──╫─┤M├──────\n",
       "     ├───┤     │             ││        │├───┤ ║  ║  ║ └╥┘┌─┐   \n",
       "q_4: ┤ H ├─────┤4            ├┤4       ├┤ H ├─╫──╫──╫──╫─┤M├───\n",
       "     ├───┤     │             ││        │├───┤ ║  ║  ║  ║ └╥┘┌─┐\n",
       "q_5: ┤ H ├─────┤5            ├┤5       ├┤ H ├─╫──╫──╫──╫──╫─┤M├\n",
       "     ├───┤┌───┐│             │└────────┘└───┘ ║  ║  ║  ║  ║ └╥┘\n",
       "q_6: ┤ X ├┤ H ├┤6            ├────────────────╫──╫──╫──╫──╫──╫─\n",
       "     └───┘└───┘└─────────────┘                ║  ║  ║  ║  ║  ║ \n",
       "c: 6/═════════════════════════════════════════╩══╩══╩══╩══╩══╩═\n",
       "                                              0  1  2  3  4  5 "
      ]
     },
     "execution_count": 5,
     "metadata": {},
     "output_type": "execute_result"
    }
   ],
   "source": [
    "#Create Diffuser circuit \n",
    "def diffuser(nqubits): \n",
    "    qc=QuantumCircuit(n) \n",
    "#diff=H^nR_oH^n \n",
    "    # Apply transformation |s> -> |00..0> (H-gates) \n",
    "    for qubit in range(nqubits): \n",
    "        qc.h(qubit) \n",
    "   #Start implementing the R_0  \n",
    "    for qubit in range(nqubits): \n",
    "        qc.x(qubit) \n",
    "     \n",
    "       # Do multi-controlled-Z gate using multicontrol multitarget gate MCMT \n",
    "    cnz = MCMT('z', num_ctrl_qubits=nqubits-1, num_target_qubits=1) \n",
    "    qc=qc.compose(cnz) #add cnz to the original qc \n",
    "     \n",
    "    # Apply transformation |11..1> -> |00..0> \n",
    "    for qubit in range(nqubits): \n",
    "        qc.x(qubit) \n",
    "    # Apply transformation |00..0> -> |s> \n",
    "    #apply xzxz to the first qubit \n",
    "    qc.x(0) \n",
    "    qc.z(0) \n",
    "    qc.x(0) \n",
    "    qc.z(0) \n",
    "    # End of R_0 \n",
    "     \n",
    "    for qubit in range(nqubits): \n",
    "        qc.h(qubit) \n",
    "         \n",
    "    # We will return the diffuser as a gate \n",
    "    U_s = qc.to_gate() \n",
    "    U_s.name = \"U$_s$\" \n",
    "    return U_s \n",
    " \n",
    "#Input the string size \n",
    "n=6 \n",
    "#Create Oracle \n",
    "qc = QuantumCircuit(n+1) \n",
    "qc.cx(1,n)  \n",
    "qc.cx(0,n) #String is equal to 110000 \n",
    "#qc.cz(0, 3) \n",
    "oracle_exn = qc.to_gate() \n",
    "oracle_exn.name = \"U$_\\omega$\" \n",
    " \n",
    "grover_circuit = QuantumCircuit(n+1,n) \n",
    "grover_circuit.x(n) #To create the Ancilla |-> \n",
    "for qubit in range(n+1): \n",
    "    grover_circuit.h(qubit) \n",
    "   \n",
    "# Number of iterations of oracle and diffuser needed \n",
    " \n",
    "t=pi*sqrt(pow(pow(2,n),0.5))/4-0.5 \n",
    "t=int(t) \n",
    "#grover_circuit = initialize(grover_circuit, [0,1,2]) \n",
    "for i in range(t): \n",
    "    grover_circuit=grover_circuit.compose(oracle_exn) \n",
    "    grover_circuit=grover_circuit.compose(diffuser(n)) \n",
    " \n",
    "for qubit in range(n): \n",
    "    grover_circuit.h(qubit) \n",
    "\n",
    "for i in range(n): \n",
    "    grover_circuit.measure(i,i) \n",
    "#grover_circuit.measure_all() \n",
    "grover_circuit.draw()"
   ]
  },
  {
   "cell_type": "code",
   "execution_count": 6,
   "metadata": {},
   "outputs": [
    {
     "data": {
      "image/png": "[encoded data removed]",
      "text/plain": [
       "<Figure size 640x480 with 1 Axes>"
      ]
     },
     "execution_count": 6,
     "metadata": {},
     "output_type": "execute_result"
    }
   ],
   "source": [
    "aer_sim = Aer.get_backend('aer_simulator') \n",
    "transpiled_grover_circuit = transpile(grover_circuit, aer_sim) \n",
    "# qobj = assemble(transpiled_grover_circuit) \n",
    "results = aer_sim.run(transpiled_grover_circuit).result() \n",
    "counts = results.get_counts() \n",
    "plot_histogram(counts)\n"
   ]
  }
 ],
 "metadata": {
  "kernelspec": {
   "display_name": "qiskit_env",
   "language": "python",
   "name": "python3"
  },
  "language_info": {
   "codemirror_mode": {
    "name": "ipython",
    "version": 3
   },
   "file_extension": ".py",
   "mimetype": "text/x-python",
   "name": "python",
   "nbconvert_exporter": "python",
   "pygments_lexer": "ipython3",
   "version": "3.10.11"
  }
 },
 "nbformat": 4,
 "nbformat_minor": 2
}
