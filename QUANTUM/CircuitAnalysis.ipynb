{
 "cells": [
  {
   "cell_type": "code",
   "execution_count": 1,
   "id": "ed0becb5",
   "metadata": {},
   "outputs": [
    {
     "name": "stdout",
     "output_type": "stream",
     "text": [
      "     ┌───┐┌───┐┌───┐┌───┐          \n",
      "q_0: ┤ H ├┤ H ├┤ H ├┤ H ├──■───────\n",
      "     └───┘└───┘└───┘└───┘┌─┴─┐┌───┐\n",
      "q_1: ────────────────────┤ X ├┤ H ├\n",
      "                         └───┘└───┘\n",
      "Circuit depth:  6\n"
     ]
    }
   ],
   "source": [
    "from qiskit import QuantumCircuit\n",
    "from qiskit_aer import Aer\n",
    "import numpy as np\n",
    "from qiskit.visualization import plot_bloch_multivector, plot_histogram, array_to_latex\n",
    "\n",
    "# Create a quantum circuit with 2 qubits\n",
    "qc = QuantumCircuit(2)\n",
    "qc.h(0)\n",
    "qc.h(0)\n",
    "qc.h(0)\n",
    "qc.h(0)\n",
    "qc.cx(0, 1)\n",
    "qc.h(1)\n",
    "\n",
    "# Print the circuit and its depth\n",
    "print(qc)\n",
    "print(\"Circuit depth: \", qc.depth())"
   ]
  },
  {
   "cell_type": "code",
   "execution_count": 2,
   "id": "4beeb5ff",
   "metadata": {},
   "outputs": [
    {
     "name": "stdout",
     "output_type": "stream",
     "text": [
      "     ┌───┐     ┌───┐     \n",
      "q_0: ┤ H ├──■──┤ H ├─────\n",
      "     └───┘┌─┴─┐├───┤     \n",
      "q_1: ─────┤ X ├┤ H ├──■──\n",
      "          └───┘└───┘┌─┴─┐\n",
      "q_2: ───────────────┤ X ├\n",
      "                    └───┘\n",
      "Circuit depth:  4\n"
     ]
    }
   ],
   "source": [
    "# Create a quantum circuit with 3 qubits\n",
    "qc = QuantumCircuit(3)\n",
    "qc.h(0)\n",
    "qc.cx(0, 1)\n",
    "qc.h(0)\n",
    "qc.h(1)\n",
    "qc.cx(1, 2)\n",
    "\n",
    "# Print the circuit and its depth\n",
    "print(qc)\n",
    "print(\"Circuit depth: \", qc.depth())"
   ]
  },
  {
   "cell_type": "code",
   "execution_count": 3,
   "id": "cd30dbce",
   "metadata": {},
   "outputs": [
    {
     "name": "stdout",
     "output_type": "stream",
     "text": [
      "Circuit depth:  4\n",
      "Circuit width:  3\n",
      "Number of operations:  5\n",
      "Number of qubits:  3\n",
      "Operation counts:  OrderedDict([('h', 3), ('cx', 2)])\n"
     ]
    }
   ],
   "source": [
    "# Additional circuit properties\n",
    "qc = QuantumCircuit(3)\n",
    "qc.h(0)\n",
    "qc.cx(0, 1)\n",
    "qc.h(0)\n",
    "qc.h(1)\n",
    "qc.cx(1, 2)\n",
    "\n",
    "print(\"Circuit depth: \", qc.depth())\n",
    "print(\"Circuit width: \", qc.width())\n",
    "print(\"Number of operations: \", qc.size())\n",
    "print(\"Number of qubits: \", qc.num_qubits)\n",
    "print(\"Operation counts: \", qc.count_ops())"
   ]
  }
 ],
 "metadata": {
  "kernelspec": {
   "display_name": "Python 3",
   "language": "python",
   "name": "python3"
  },
  "language_info": {
   "codemirror_mode": {
    "name": "ipython",
    "version": 3
   },
   "file_extension": ".py",
   "mimetype": "text/x-python",
   "name": "python",
   "nbconvert_exporter": "python",
   "pygments_lexer": "ipython3",
   "version": "3.11.1"
  }
 },
 "nbformat": 4,
 "nbformat_minor": 5
}
