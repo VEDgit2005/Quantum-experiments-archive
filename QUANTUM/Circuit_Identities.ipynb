{
 "cells": [
  {
   "cell_type": "code",
   "execution_count": 2,
   "id": "e3bc6450",
   "metadata": {},
   "outputs": [
    {
     "data": {
      "text/html": [
       "<pre style=\"word-wrap: normal;white-space: pre;background: #fff0;line-height: 1.1;font-family: &quot;Courier New&quot;,Courier,monospace\">        \n",
       "q_0: ─■─\n",
       "      │ \n",
       "q_1: ─■─\n",
       "        </pre>"
      ],
      "text/plain": [
       "        \n",
       "q_0: ─■─\n",
       "      │ \n",
       "q_1: ─■─\n",
       "        "
      ]
     },
     "execution_count": 2,
     "metadata": {},
     "output_type": "execute_result"
    }
   ],
   "source": [
    "from qiskit import QuantumCircuit\n",
    "from qiskit.circuit import Gate\n",
    "from math import pi\n",
    "from qiskit_aer import Aer\n",
    "from qiskit.visualization import array_to_latex\n",
    "\n",
    "# Method 1: Direct CZ implementation\n",
    "qc = QuantumCircuit(2)\n",
    "c = 0\n",
    "t = 1\n",
    "# A controlled-Z\n",
    "qc.cz(c, t)\n",
    "qc.draw()"
   ]
  },
  {
   "cell_type": "code",
   "execution_count": 3,
   "id": "bd645a0f",
   "metadata": {},
   "outputs": [
    {
     "data": {
      "text/html": [
       "<pre style=\"word-wrap: normal;white-space: pre;background: #fff0;line-height: 1.1;font-family: &quot;Courier New&quot;,Courier,monospace\">                    \n",
       "q_0: ───────■───────\n",
       "     ┌───┐┌─┴─┐┌───┐\n",
       "q_1: ┤ H ├┤ X ├┤ H ├\n",
       "     └───┘└───┘└───┘</pre>"
      ],
      "text/plain": [
       "                    \n",
       "q_0: ───────■───────\n",
       "     ┌───┐┌─┴─┐┌───┐\n",
       "q_1: ┤ H ├┤ X ├┤ H ├\n",
       "     └───┘└───┘└───┘"
      ]
     },
     "execution_count": 3,
     "metadata": {},
     "output_type": "execute_result"
    }
   ],
   "source": [
    "# Method 2: Alternative CZ implementation\n",
    "qc = QuantumCircuit(2)\n",
    "# Also a controlled-Z\n",
    "qc.h(t)\n",
    "qc.cx(c, t)\n",
    "qc.h(t)\n",
    "qc.draw()"
   ]
  },
  {
   "cell_type": "code",
   "execution_count": 4,
   "id": "26fc0433",
   "metadata": {},
   "outputs": [
    {
     "data": {
      "text/html": [
       "<pre style=\"word-wrap: normal;white-space: pre;background: #fff0;line-height: 1.1;font-family: &quot;Courier New&quot;,Courier,monospace\">                      \n",
       "q_0: ─────────■───────\n",
       "     ┌─────┐┌─┴─┐┌───┐\n",
       "q_1: ┤ Sdg ├┤ X ├┤ S ├\n",
       "     └─────┘└───┘└───┘</pre>"
      ],
      "text/plain": [
       "                      \n",
       "q_0: ─────────■───────\n",
       "     ┌─────┐┌─┴─┐┌───┐\n",
       "q_1: ┤ Sdg ├┤ X ├┤ S ├\n",
       "     └─────┘└───┘└───┘"
      ]
     },
     "execution_count": 4,
     "metadata": {},
     "output_type": "execute_result"
    }
   ],
   "source": [
    "# Controlled-Y gate implementation\n",
    "qc = QuantumCircuit(2)\n",
    "# A controlled-Y\n",
    "qc.sdg(t)\n",
    "qc.cx(c, t)\n",
    "qc.s(t)\n",
    "qc.draw()"
   ]
  },
  {
   "cell_type": "code",
   "execution_count": 5,
   "id": "ed0c361e",
   "metadata": {},
   "outputs": [
    {
     "data": {
      "text/html": [
       "<pre style=\"word-wrap: normal;white-space: pre;background: #fff0;line-height: 1.1;font-family: &quot;Courier New&quot;,Courier,monospace\">                                 \n",
       "q_0: ─────────────■──────────────\n",
       "     ┌─────────┐┌─┴─┐┌──────────┐\n",
       "q_1: ┤ Ry(π/4) ├┤ X ├┤ Ry(-π/4) ├\n",
       "     └─────────┘└───┘└──────────┘</pre>"
      ],
      "text/plain": [
       "                                 \n",
       "q_0: ─────────────■──────────────\n",
       "     ┌─────────┐┌─┴─┐┌──────────┐\n",
       "q_1: ┤ Ry(π/4) ├┤ X ├┤ Ry(-π/4) ├\n",
       "     └─────────┘└───┘└──────────┘"
      ]
     },
     "execution_count": 5,
     "metadata": {},
     "output_type": "execute_result"
    }
   ],
   "source": [
    "# Controlled-H gate implementation\n",
    "qc = QuantumCircuit(2)\n",
    "# A controlled-H\n",
    "qc.ry(pi/4, t)\n",
    "qc.cx(c, t)\n",
    "qc.ry(-pi/4, t)\n",
    "qc.draw()"
   ]
  },
  {
   "cell_type": "code",
   "execution_count": 6,
   "id": "90386023",
   "metadata": {},
   "outputs": [
    {
     "data": {
      "text/html": [
       "<pre style=\"word-wrap: normal;white-space: pre;background: #fff0;line-height: 1.1;font-family: &quot;Courier New&quot;,Courier,monospace\">        \n",
       "q_0: ─X─\n",
       "      │ \n",
       "q_1: ─X─\n",
       "        </pre>"
      ],
      "text/plain": [
       "        \n",
       "q_0: ─X─\n",
       "      │ \n",
       "q_1: ─X─\n",
       "        "
      ]
     },
     "execution_count": 6,
     "metadata": {},
     "output_type": "execute_result"
    }
   ],
   "source": [
    "# Direct SWAP implementation\n",
    "a = 0\n",
    "b = 1\n",
    "qc = QuantumCircuit(2)\n",
    "# Swaps states of qubits a and b\n",
    "qc.swap(a, b)\n",
    "qc.draw()"
   ]
  },
  {
   "cell_type": "code",
   "execution_count": 7,
   "id": "b9951d70",
   "metadata": {},
   "outputs": [
    {
     "data": {
      "text/html": [
       "<pre style=\"word-wrap: normal;white-space: pre;background: #fff0;line-height: 1.1;font-family: &quot;Courier New&quot;,Courier,monospace\">          ┌───┐\n",
       "q_0: ──■──┤ X ├\n",
       "     ┌─┴─┐└─┬─┘\n",
       "q_1: ┤ X ├──■──\n",
       "     └───┘     </pre>"
      ],
      "text/plain": [
       "          ┌───┐\n",
       "q_0: ──■──┤ X ├\n",
       "     ┌─┴─┐└─┬─┘\n",
       "q_1: ┤ X ├──■──\n",
       "     └───┘     "
      ]
     },
     "execution_count": 7,
     "metadata": {},
     "output_type": "execute_result"
    }
   ],
   "source": [
    "# SWAP using 2 CNOT gates\n",
    "qc = QuantumCircuit(2)\n",
    "# Swap a 1 from a to b\n",
    "qc.cx(a, b)  # Copies 1 from a to b\n",
    "qc.cx(b, a)  # Uses the 1 on b to rotate the state of a to 0\n",
    "qc.draw()"
   ]
  },
  {
   "cell_type": "code",
   "execution_count": 8,
   "id": "b5766365",
   "metadata": {},
   "outputs": [
    {
     "data": {
      "text/html": [
       "<pre style=\"word-wrap: normal;white-space: pre;background: #fff0;line-height: 1.1;font-family: &quot;Courier New&quot;,Courier,monospace\">     ┌───┐     \n",
       "q_0: ┤ X ├──■──\n",
       "     └─┬─┘┌─┴─┐\n",
       "q_1: ──■──┤ X ├\n",
       "          └───┘</pre>"
      ],
      "text/plain": [
       "     ┌───┐     \n",
       "q_0: ┤ X ├──■──\n",
       "     └─┬─┘┌─┴─┐\n",
       "q_1: ──■──┤ X ├\n",
       "          └───┘"
      ]
     },
     "execution_count": 8,
     "metadata": {},
     "output_type": "execute_result"
    }
   ],
   "source": [
    "# SWAP using another sequence of CNOTs\n",
    "qc = QuantumCircuit(2)\n",
    "# Swap a q from b to a\n",
    "qc.cx(b, a)  # Copies 1 from b to a\n",
    "qc.cx(a, b)  # Uses the 1 on a to rotate the state of b to 0\n",
    "qc.draw()"
   ]
  },
  {
   "cell_type": "code",
   "execution_count": 9,
   "id": "30850e0c",
   "metadata": {},
   "outputs": [
    {
     "data": {
      "text/html": [
       "<pre style=\"word-wrap: normal;white-space: pre;background: #fff0;line-height: 1.1;font-family: &quot;Courier New&quot;,Courier,monospace\">     ┌───┐     ┌───┐\n",
       "q_0: ┤ X ├──■──┤ X ├\n",
       "     └─┬─┘┌─┴─┐└─┬─┘\n",
       "q_1: ──■──┤ X ├──■──\n",
       "          └───┘     </pre>"
      ],
      "text/plain": [
       "     ┌───┐     ┌───┐\n",
       "q_0: ┤ X ├──■──┤ X ├\n",
       "     └─┬─┘┌─┴─┐└─┬─┘\n",
       "q_1: ──■──┤ X ├──■──\n",
       "          └───┘     "
      ]
     },
     "execution_count": 9,
     "metadata": {},
     "output_type": "execute_result"
    }
   ],
   "source": [
    "# SWAP using 3 CNOT gates\n",
    "qc = QuantumCircuit(2)\n",
    "qc.cx(b, a)\n",
    "qc.cx(a, b)\n",
    "qc.cx(b, a)\n",
    "qc.draw()"
   ]
  },
  {
   "cell_type": "code",
   "execution_count": 10,
   "id": "3cf53ca9",
   "metadata": {},
   "outputs": [
    {
     "data": {
      "text/html": [
       "<pre style=\"word-wrap: normal;white-space: pre;background: #fff0;line-height: 1.1;font-family: &quot;Courier New&quot;,Courier,monospace\">          ┌───┐     \n",
       "q_0: ──■──┤ X ├──■──\n",
       "     ┌─┴─┐└─┬─┘┌─┴─┐\n",
       "q_1: ┤ X ├──■──┤ X ├\n",
       "     └───┘     └───┘</pre>"
      ],
      "text/plain": [
       "          ┌───┐     \n",
       "q_0: ──■──┤ X ├──■──\n",
       "     ┌─┴─┐└─┬─┘┌─┴─┐\n",
       "q_1: ┤ X ├──■──┤ X ├\n",
       "     └───┘     └───┘"
      ]
     },
     "execution_count": 10,
     "metadata": {},
     "output_type": "execute_result"
    }
   ],
   "source": [
    "# Alternative SWAP implementation with 3 CNOT gates\n",
    "qc = QuantumCircuit(2)\n",
    "# Swaps states of qubits a and b\n",
    "qc.cx(a, b)\n",
    "qc.cx(b, a)\n",
    "qc.cx(a, b)\n",
    "qc.draw()"
   ]
  },
  {
   "cell_type": "code",
   "execution_count": 11,
   "id": "803ed5e6",
   "metadata": {},
   "outputs": [
    {
     "data": {
      "text/html": [
       "<pre style=\"word-wrap: normal;white-space: pre;background: #fff0;line-height: 1.1;font-family: &quot;Courier New&quot;,Courier,monospace\">                                      \n",
       "q_0: ─────────────■────────────────■──\n",
       "     ┌─────────┐┌─┴─┐┌──────────┐┌─┴─┐\n",
       "q_1: ┤ Ry(π/2) ├┤ X ├┤ Ry(-π/2) ├┤ X ├\n",
       "     └─────────┘└───┘└──────────┘└───┘</pre>"
      ],
      "text/plain": [
       "                                      \n",
       "q_0: ─────────────■────────────────■──\n",
       "     ┌─────────┐┌─┴─┐┌──────────┐┌─┴─┐\n",
       "q_1: ┤ Ry(π/2) ├┤ X ├┤ Ry(-π/2) ├┤ X ├\n",
       "     └─────────┘└───┘└──────────┘└───┘"
      ]
     },
     "execution_count": 11,
     "metadata": {},
     "output_type": "execute_result"
    }
   ],
   "source": [
    "# Controlled rotation circuit\n",
    "qc = QuantumCircuit(2)\n",
    "theta = pi  # Theta can be anything (pi chosen arbitrarily)\n",
    "qc.ry(theta/2, t)\n",
    "qc.cx(c, t)\n",
    "qc.ry(-theta/2, t)\n",
    "qc.cx(c, t)\n",
    "qc.draw()"
   ]
  },
  {
   "cell_type": "code",
   "execution_count": 12,
   "id": "c748f0ef",
   "metadata": {},
   "outputs": [
    {
     "data": {
      "text/html": [
       "<pre style=\"word-wrap: normal;white-space: pre;background: #fff0;line-height: 1.1;font-family: &quot;Courier New&quot;,Courier,monospace\">                     ┌──────┐\n",
       "q_0: ──────■───────■─┤ P(1) ├\n",
       "     ┌───┐ │ ┌───┐ │ └┬───┬─┘\n",
       "q_1: ┤ C ├─■─┤ B ├─■──┤ A ├──\n",
       "     └───┘   └───┘    └───┘  </pre>"
      ],
      "text/plain": [
       "                     ┌──────┐\n",
       "q_0: ──────■───────■─┤ P(1) ├\n",
       "     ┌───┐ │ ┌───┐ │ └┬───┬─┘\n",
       "q_1: ┤ C ├─■─┤ B ├─■──┤ A ├──\n",
       "     └───┘   └───┘    └───┘  "
      ]
     },
     "execution_count": 12,
     "metadata": {},
     "output_type": "execute_result"
    }
   ],
   "source": [
    "# Circuit with abstract gates\n",
    "A = Gate('A', 1, [])\n",
    "B = Gate('B', 1, [])\n",
    "C = Gate('C', 1, [])\n",
    "alpha = 1  # Arbitrarily define alpha to allow drawing of circuit\n",
    "qc = QuantumCircuit(2)\n",
    "qc.append(C, [t])\n",
    "qc.cz(c, t)\n",
    "qc.append(B, [t])\n",
    "qc.cz(c, t)\n",
    "qc.append(A, [t])\n",
    "qc.p(alpha, c)\n",
    "qc.draw()"
   ]
  },
  {
   "cell_type": "code",
   "execution_count": 13,
   "id": "44a65426",
   "metadata": {},
   "outputs": [
    {
     "data": {
      "text/html": [
       "<pre style=\"word-wrap: normal;white-space: pre;background: #fff0;line-height: 1.1;font-family: &quot;Courier New&quot;,Courier,monospace\">          \n",
       "q_0: ──■──\n",
       "       │  \n",
       "q_1: ──■──\n",
       "     ┌─┴─┐\n",
       "q_2: ┤ X ├\n",
       "     └───┘</pre>"
      ],
      "text/plain": [
       "          \n",
       "q_0: ──■──\n",
       "       │  \n",
       "q_1: ──■──\n",
       "     ┌─┴─┐\n",
       "q_2: ┤ X ├\n",
       "     └───┘"
      ]
     },
     "execution_count": 13,
     "metadata": {},
     "output_type": "execute_result"
    }
   ],
   "source": [
    "# Toffoli gate implementation\n",
    "qc = QuantumCircuit(3)\n",
    "a = 0\n",
    "b = 1\n",
    "t = 2\n",
    "# Toffoli with control qubits a and b and target t\n",
    "qc.ccx(a, b, t)\n",
    "qc.draw()"
   ]
  },
  {
   "cell_type": "code",
   "execution_count": 14,
   "id": "32260db1",
   "metadata": {},
   "outputs": [
    {
     "data": {
      "text/html": [
       "<pre style=\"word-wrap: normal;white-space: pre;background: #fff0;line-height: 1.1;font-family: &quot;Courier New&quot;,Courier,monospace\">                                     \n",
       "q_0: ─────────■────────────■───■─────\n",
       "            ┌─┴─┐        ┌─┴─┐ │     \n",
       "q_1: ─■─────┤ X ├─■──────┤ X ├─┼─────\n",
       "      │P(π) └───┘ │P(-π) └───┘ │P(π) \n",
       "q_2: ─■───────────■────────────■─────\n",
       "                                     </pre>"
      ],
      "text/plain": [
       "                                     \n",
       "q_0: ─────────■────────────■───■─────\n",
       "            ┌─┴─┐        ┌─┴─┐ │     \n",
       "q_1: ─■─────┤ X ├─■──────┤ X ├─┼─────\n",
       "      │P(π) └───┘ │P(-π) └───┘ │P(π) \n",
       "q_2: ─■───────────■────────────■─────\n",
       "                                     "
      ]
     },
     "execution_count": 14,
     "metadata": {},
     "output_type": "execute_result"
    }
   ],
   "source": [
    "# Controlled phase circuit\n",
    "qc = QuantumCircuit(3)\n",
    "qc.cp(theta, b, t)\n",
    "qc.cx(a, b)\n",
    "qc.cp(-theta, b, t)\n",
    "qc.cx(a, b)\n",
    "qc.cp(theta, a, t)\n",
    "qc.draw()"
   ]
  },
  {
   "cell_type": "code",
   "execution_count": 15,
   "id": "eb2e3602",
   "metadata": {},
   "outputs": [
    {
     "data": {
      "text/html": [
       "<pre style=\"word-wrap: normal;white-space: pre;background: #fff0;line-height: 1.1;font-family: &quot;Courier New&quot;,Courier,monospace\">                  \n",
       "q_0: ──■───────■──\n",
       "       │       │  \n",
       "q_1: ──┼───■───┼──\n",
       "     ┌─┴─┐ │ ┌─┴─┐\n",
       "q_2: ┤ H ├─■─┤ H ├\n",
       "     └───┘   └───┘</pre>"
      ],
      "text/plain": [
       "                  \n",
       "q_0: ──■───────■──\n",
       "       │       │  \n",
       "q_1: ──┼───■───┼──\n",
       "     ┌─┴─┐ │ ┌─┴─┐\n",
       "q_2: ┤ H ├─■─┤ H ├\n",
       "     └───┘   └───┘"
      ]
     },
     "execution_count": 15,
     "metadata": {},
     "output_type": "execute_result"
    }
   ],
   "source": [
    "# Circuit with controlled-H and controlled-Z\n",
    "qc = QuantumCircuit(3)\n",
    "qc.ch(a, t)\n",
    "qc.cz(b, t)\n",
    "qc.ch(a, t)\n",
    "qc.draw()"
   ]
  },
  {
   "cell_type": "code",
   "execution_count": 16,
   "id": "b0d22730",
   "metadata": {},
   "outputs": [
    {
     "data": {
      "text/html": [
       "<pre style=\"word-wrap: normal;white-space: pre;background: #fff0;line-height: 1.1;font-family: &quot;Courier New&quot;,Courier,monospace\">   ┌───┐\n",
       "q: ┤ T ├\n",
       "   └───┘</pre>"
      ],
      "text/plain": [
       "   ┌───┐\n",
       "q: ┤ T ├\n",
       "   └───┘"
      ]
     },
     "execution_count": 16,
     "metadata": {},
     "output_type": "execute_result"
    }
   ],
   "source": [
    "# T gate demonstration\n",
    "qc = QuantumCircuit(1)\n",
    "qc.t(0)  # T gate on qubit 0\n",
    "qc.draw()"
   ]
  },
  {
   "cell_type": "code",
   "execution_count": 17,
   "id": "ab3142da",
   "metadata": {},
   "outputs": [
    {
     "data": {
      "text/html": [
       "<pre style=\"word-wrap: normal;white-space: pre;background: #fff0;line-height: 1.1;font-family: &quot;Courier New&quot;,Courier,monospace\">   ┌───┐┌───┐┌───┐\n",
       "q: ┤ H ├┤ T ├┤ H ├\n",
       "   └───┘└───┘└───┘</pre>"
      ],
      "text/plain": [
       "   ┌───┐┌───┐┌───┐\n",
       "q: ┤ H ├┤ T ├┤ H ├\n",
       "   └───┘└───┘└───┘"
      ]
     },
     "execution_count": 17,
     "metadata": {},
     "output_type": "execute_result"
    }
   ],
   "source": [
    "# H-T-H sequence\n",
    "qc = QuantumCircuit(1)\n",
    "qc.h(0)\n",
    "qc.t(0)\n",
    "qc.h(0)\n",
    "qc.draw()"
   ]
  },
  {
   "cell_type": "code",
   "execution_count": 18,
   "id": "3f54159b",
   "metadata": {},
   "outputs": [
    {
     "data": {
      "text/html": [
       "<pre style=\"word-wrap: normal;white-space: pre;background: #fff0;line-height: 1.1;font-family: &quot;Courier New&quot;,Courier,monospace\">   ┌───┐┌───┐┌───┐┌───┐\n",
       "q: ┤ H ├┤ T ├┤ H ├┤ T ├\n",
       "   └───┘└───┘└───┘└───┘</pre>"
      ],
      "text/plain": [
       "   ┌───┐┌───┐┌───┐┌───┐\n",
       "q: ┤ H ├┤ T ├┤ H ├┤ T ├\n",
       "   └───┘└───┘└───┘└───┘"
      ]
     },
     "execution_count": 18,
     "metadata": {},
     "output_type": "execute_result"
    }
   ],
   "source": [
    "# H-T-H-T sequence\n",
    "qc = QuantumCircuit(1)\n",
    "qc.h(0)\n",
    "qc.t(0)\n",
    "qc.h(0)\n",
    "qc.t(0)\n",
    "qc.draw()"
   ]
  },
  {
   "cell_type": "code",
   "execution_count": 19,
   "id": "9e398384",
   "metadata": {},
   "outputs": [
    {
     "data": {
      "text/html": [
       "<pre style=\"word-wrap: normal;white-space: pre;background: #fff0;line-height: 1.1;font-family: &quot;Courier New&quot;,Courier,monospace\">   ┌───┐┌───┐┌───┐┌───┐\n",
       "q: ┤ T ├┤ H ├┤ T ├┤ H ├\n",
       "   └───┘└───┘└───┘└───┘</pre>"
      ],
      "text/plain": [
       "   ┌───┐┌───┐┌───┐┌───┐\n",
       "q: ┤ T ├┤ H ├┤ T ├┤ H ├\n",
       "   └───┘└───┘└───┘└───┘"
      ]
     },
     "execution_count": 19,
     "metadata": {},
     "output_type": "execute_result"
    }
   ],
   "source": [
    "# T-H-T-H sequence\n",
    "qc = QuantumCircuit(1)\n",
    "qc.t(0)\n",
    "qc.h(0)\n",
    "qc.t(0)\n",
    "qc.h(0)\n",
    "qc.draw()"
   ]
  }
 ],
 "metadata": {
  "kernelspec": {
   "display_name": "Python 3",
   "language": "python",
   "name": "python3"
  },
  "language_info": {
   "codemirror_mode": {
    "name": "ipython",
    "version": 3
   },
   "file_extension": ".py",
   "mimetype": "text/x-python",
   "name": "python",
   "nbconvert_exporter": "python",
   "pygments_lexer": "ipython3",
   "version": "3.11.1"
  }
 },
 "nbformat": 4,
 "nbformat_minor": 5
}
